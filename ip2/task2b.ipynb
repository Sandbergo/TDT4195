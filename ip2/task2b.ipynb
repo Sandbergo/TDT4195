{
 "cells": [
  {
   "cell_type": "code",
   "execution_count": 1,
   "metadata": {
    "colab": {},
    "colab_type": "code",
    "id": "3sPRwgKn-FjL"
   },
   "outputs": [],
   "source": [
    "import torch\n",
    "import matplotlib.pyplot as plt\n",
    "import tqdm\n",
    "import utils\n",
    "import dataloaders\n",
    "import numpy as np\n",
    "import torchvision\n",
    "import os\n",
    "from trainer import Trainer\n",
    "import torch.nn.functional as F\n",
    "torch.random.manual_seed(0)\n",
    "np.random.seed(0)\n",
    "torch.backends.cudnn.benchmark = False\n",
    "torch.backends.cuda.deterministic = True"
   ]
  },
  {
   "cell_type": "markdown",
   "metadata": {
    "colab_type": "text",
    "id": "9X2gGAoP-FjQ"
   },
   "source": [
    "### Model Definition"
   ]
  },
  {
   "cell_type": "code",
   "execution_count": 11,
   "metadata": {
    "colab": {},
    "colab_type": "code",
    "id": "1ssb5w0j-FjR"
   },
   "outputs": [],
   "source": [
    "class LeNet(torch.nn.Module):\n",
    "\n",
    "    def __init__(self):\n",
    "        super().__init__()\n",
    "        \n",
    "        ### START YOUR CODE HERE ### (You can change anything inside this block)\n",
    "        num_input_nodes = 32*32\n",
    "        num_hidden_nodes = 64\n",
    "        num_classes = 10\n",
    "        \n",
    "        self.conv1 = torch.nn.Conv2d(in_channels=1, out_channels=32, kernel_size=5, stride=1, padding = 2)\n",
    "        self.conv2 = torch.nn.Conv2d(in_channels=32, out_channels=64, kernel_size=2, stride=1, padding = 1)\n",
    "        self.conv3 = torch.nn.Conv2d(in_channels=64, out_channels=128, kernel_size=2, stride=2, padding = 1)\n",
    "        self.fc1   = torch.nn.Linear(512, 64)\n",
    "        self.fc2   = torch.nn.Linear(64, 10)\n",
    "        \n",
    "\n",
    "    def forward(self, x):\n",
    "        out = F.relu(self.conv1(x))\n",
    "        out = F.max_pool2d(out, 2)\n",
    "        out = F.relu(self.conv2(out))\n",
    "        out = F.max_pool2d(out, 2)\n",
    "        out = F.relu(self.conv3(out))\n",
    "        out = F.max_pool2d(out, 2)\n",
    "        out = out.view(out.size(0), -1)\n",
    "        out = F.relu(self.fc1(out))\n",
    "        out = self.fc2(out)\n",
    "\n",
    "        #x = x.view(-1, 32*32) \n",
    "        #x = self.classifier(x)\n",
    "        return x\n"
   ]
  },
  {
   "cell_type": "code",
   "execution_count": 14,
   "metadata": {
    "colab": {},
    "colab_type": "code",
    "id": "U0qq-mYrmGE-"
   },
   "outputs": [],
   "source": [
    "import torch.nn as nn\n",
    "import torch.nn.functional as F\n",
    "\n",
    "class LeNet(nn.Module):\n",
    "    def __init__(self):\n",
    "        super(LeNet, self).__init__()\n",
    "        self.conv1 = torch.nn.Conv2d(in_channels=1, out_channels=32, kernel_size=5, stride=1, padding = 2)\n",
    "        self.conv2 = torch.nn.Conv2d(in_channels=32, out_channels=64, kernel_size=5, stride=1, padding = 2)\n",
    "        self.conv3 = torch.nn.Conv2d(in_channels=64, out_channels=128, kernel_size=5, stride=1, padding = 2)\n",
    "        self.fc1   = torch.nn.Linear(4*4*128, 64)\n",
    "        self.fc2   = torch.nn.Linear(64, 10)\n",
    "\n",
    "    def forward(self, x):\n",
    "        out = F.relu(self.conv1(x))\n",
    "        out = F.max_pool2d(out, 2)\n",
    "        out = F.relu(self.conv2(out))\n",
    "        out = F.max_pool2d(out, 2)\n",
    "        out = F.relu(self.conv3(out))\n",
    "        out = F.max_pool2d(out, 2)\n",
    "        #print(out.shape)\n",
    "        out = out.view(out.size(0), -1)\n",
    "        out = F.relu(self.fc1(out))\n",
    "        out = self.fc2(out)\n",
    "        return out"
   ]
  },
  {
   "cell_type": "markdown",
   "metadata": {
    "colab_type": "text",
    "id": "ZthImlmV-FjT"
   },
   "source": [
    "### Hyperparameters & Loss function"
   ]
  },
  {
   "cell_type": "code",
   "execution_count": 20,
   "metadata": {
    "colab": {},
    "colab_type": "code",
    "id": "bVWBPB6q-FjU"
   },
   "outputs": [],
   "source": [
    "# Hyperparameters\n",
    "batch_size = 64\n",
    "learning_rate = 0.0192\n",
    "num_epochs = 10\n",
    "\n",
    "# Use CrossEntropyLoss for multi-class classification\n",
    "loss_function = torch.nn.CrossEntropyLoss()"
   ]
  },
  {
   "cell_type": "markdown",
   "metadata": {
    "colab_type": "text",
    "id": "JbUPopg3-FjW"
   },
   "source": [
    "### Train model"
   ]
  },
  {
   "cell_type": "code",
   "execution_count": 21,
   "metadata": {
    "colab": {
     "base_uri": "https://localhost:8080/",
     "height": 1000
    },
    "colab_type": "code",
    "executionInfo": {
     "elapsed": 991363,
     "status": "ok",
     "timestamp": 1572442618450,
     "user": {
      "displayName": "Lars Sandberg",
      "photoUrl": "https://lh3.googleusercontent.com/a-/AAuE7mB1gy1OSpLQ-MNsImdPoeyf8ivAL8CVSwWWYpgB=s64",
      "userId": "09976577059372081020"
     },
     "user_tz": -60
    },
    "id": "pxNPKvZc-FjX",
    "outputId": "82d928a4-3df9-4e4e-cdd0-4384be05a0c7"
   },
   "outputs": [
    {
     "name": "stderr",
     "output_type": "stream",
     "text": [
      "Training epoch 0: 100%|██████████| 938/938 [00:06<00:00, 136.08it/s]\n",
      "Training epoch 1: 100%|██████████| 938/938 [00:06<00:00, 137.78it/s]\n",
      "Training epoch 2: 100%|██████████| 938/938 [00:06<00:00, 139.25it/s]\n",
      "Training epoch 3: 100%|██████████| 938/938 [00:06<00:00, 139.03it/s]\n",
      "Training epoch 4: 100%|██████████| 938/938 [00:06<00:00, 139.42it/s]\n",
      "Training epoch 5: 100%|██████████| 938/938 [00:06<00:00, 140.52it/s]\n",
      "Training epoch 6: 100%|██████████| 938/938 [00:06<00:00, 140.50it/s]\n",
      "Training epoch 7: 100%|██████████| 938/938 [00:06<00:00, 140.66it/s]\n",
      "Training epoch 8: 100%|██████████| 938/938 [00:06<00:00, 138.67it/s]\n",
      "Training epoch 9: 100%|██████████| 938/938 [00:06<00:00, 140.25it/s]\n"
     ]
    }
   ],
   "source": [
    "image_transform = torchvision.transforms.Compose([\n",
    "    torchvision.transforms.Resize((32, 32)),\n",
    "    torchvision.transforms.ToTensor(),\n",
    "    torchvision.transforms.Normalize([0.5], [0.25])\n",
    "])\n",
    "dataloader_train, dataloader_val = dataloaders.load_dataset(batch_size, image_transform)\n",
    "\n",
    "# Model definition\n",
    "model = LeNet()\n",
    "# Transfer model to GPU memory (if possible)\n",
    "model = utils.to_cuda(model)\n",
    "\n",
    "# Define optimizer (Stochastic Gradient Descent)\n",
    "optimizer = torch.optim.SGD(model.parameters(),\n",
    "                            lr=learning_rate)\n",
    "trainer = Trainer(\n",
    "  model=model,\n",
    "  dataloader_train=dataloader_train,\n",
    "  dataloader_val=dataloader_val,\n",
    "  batch_size=batch_size,\n",
    "  loss_function=loss_function,\n",
    "  optimizer=optimizer\n",
    ")\n",
    "train_loss_dict, val_loss_dict = trainer.train(num_epochs)"
   ]
  },
  {
   "cell_type": "markdown",
   "metadata": {
    "colab_type": "text",
    "id": "36S_wgPf-FjZ"
   },
   "source": [
    "### Plot Loss"
   ]
  },
  {
   "cell_type": "code",
   "execution_count": 23,
   "metadata": {
    "colab": {
     "base_uri": "https://localhost:8080/",
     "height": 279
    },
    "colab_type": "code",
    "executionInfo": {
     "elapsed": 1172,
     "status": "ok",
     "timestamp": 1572444141718,
     "user": {
      "displayName": "Lars Sandberg",
      "photoUrl": "https://lh3.googleusercontent.com/a-/AAuE7mB1gy1OSpLQ-MNsImdPoeyf8ivAL8CVSwWWYpgB=s64",
      "userId": "09976577059372081020"
     },
     "user_tz": -60
    },
    "id": "7l8YqzjM-Fja",
    "outputId": "3d00a880-e3be-4726-ad7a-31f36681cd50"
   },
   "outputs": [
    {
     "data": {
      "image/png": "[encoded data removed]",
      "text/plain": [
       "<Figure size 432x288 with 1 Axes>"
      ]
     },
     "metadata": {},
     "output_type": "display_data"
    }
   ],
   "source": [
    "utils.plot_loss(train_loss_dict, label=\"Train Loss\")\n",
    "utils.plot_loss(val_loss_dict, label=\"Test Loss\")\n",
    "# Limit the y-axis of the plot (The range should not be increased!)\n",
    "plt.ylim([0, .4])\n",
    "plt.legend()\n",
    "plt.xlabel(\"Global Training Step\")\n",
    "plt.ylabel(\"Cross Entropy Loss\")\n",
    "os.makedirs(\"image_processed\", exist_ok=True)\n",
    "plt.savefig(os.path.join(\"image_processed\", \"task2.png\"))\n",
    "\n",
    "plt.show()\n",
    "\n",
    "torch.save(model.state_dict(), \"saved_model.torch\")\n"
   ]
  },
  {
   "cell_type": "code",
   "execution_count": 19,
   "metadata": {
    "colab": {
     "base_uri": "https://localhost:8080/",
     "height": 71
    },
    "colab_type": "code",
    "executionInfo": {
     "elapsed": 16231,
     "status": "ok",
     "timestamp": 1572444490707,
     "user": {
      "displayName": "Lars Sandberg",
      "photoUrl": "https://lh3.googleusercontent.com/a-/AAuE7mB1gy1OSpLQ-MNsImdPoeyf8ivAL8CVSwWWYpgB=s64",
      "userId": "09976577059372081020"
     },
     "user_tz": -60
    },
    "id": "MFxN_ldb-Fjc",
    "outputId": "852d83ab-508f-4c5e-c444-9c22575914e4"
   },
   "outputs": [
    {
     "name": "stdout",
     "output_type": "stream",
     "text": [
      "Final Validation loss: 0.040932005781466795. Final Validation accuracy: 0.9873\n"
     ]
    }
   ],
   "source": [
    "\n",
    "# %%\n",
    "final_loss, final_acc = utils.compute_loss_and_accuracy(\n",
    "    dataloader_val, model, loss_function)\n",
    "print(f\"Final Validation loss: {final_loss}. Final Validation accuracy: {final_acc}\")\n",
    "\n",
    "# %%"
   ]
  },
  {
   "cell_type": "code",
   "execution_count": 0,
   "metadata": {
    "colab": {
     "base_uri": "https://localhost:8080/",
     "height": 102
    },
    "colab_type": "code",
    "executionInfo": {
     "elapsed": 3997,
     "status": "ok",
     "timestamp": 1572428175258,
     "user": {
      "displayName": "Lars Sandberg",
      "photoUrl": "https://lh3.googleusercontent.com/a-/AAuE7mB1gy1OSpLQ-MNsImdPoeyf8ivAL8CVSwWWYpgB=s64",
      "userId": "09976577059372081020"
     },
     "user_tz": -60
    },
    "id": "Xg9YskG9-Ljr",
    "outputId": "57595870-62da-48ec-ce41-723442f524ad"
   },
   "outputs": [
    {
     "name": "stdout",
     "output_type": "stream",
     "text": [
      "/content/utils.py:77: UserWarning: Image min/max is outside the range [0.0, 1.0]. Squashing the image to this range. (Can be safely ignored)\n",
      "  warnings.warn(\"Image min/max is outside the range [0.0, 1.0]. Squashing the image to this range. (Can be safely ignored)\")\n",
      "/content/utils.py:80: ComplexWarning: Casting complex values to real discards the imaginary part\n",
      "  im = (im*255).astype(np.uint8)\n",
      "Saving image to: image_processed/moon_sharpened.png\n"
     ]
    }
   ],
   "source": [
    "!python task4d.py"
   ]
  },
  {
   "cell_type": "code",
   "execution_count": 0,
   "metadata": {
    "colab": {
     "base_uri": "https://localhost:8080/",
     "height": 122
    },
    "colab_type": "code",
    "executionInfo": {
     "elapsed": 23748,
     "status": "ok",
     "timestamp": 1572345546482,
     "user": {
      "displayName": "Lars Sandberg",
      "photoUrl": "https://lh3.googleusercontent.com/a-/AAuE7mB1gy1OSpLQ-MNsImdPoeyf8ivAL8CVSwWWYpgB=s64",
      "userId": "09976577059372081020"
     },
     "user_tz": -60
    },
    "id": "HS2UgOHvGH8U",
    "outputId": "54768310-d65a-44e0-ef5d-b6e5eb926282"
   },
   "outputs": [
    {
     "name": "stdout",
     "output_type": "stream",
     "text": [
      "Go to this URL in a browser: https://accounts.google.com/o/oauth2/auth?client_id=947318989803-6bn6qk8qdgf4n4g3pfee6491hc0brc4i.apps.googleusercontent.com&redirect_uri=urn%3Aietf%3Awg%3Aoauth%3A2.0%3Aoob&scope=email%20https%3A%2F%2Fwww.googleapis.com%2Fauth%2Fdocs.test%20https%3A%2F%2Fwww.googleapis.com%2Fauth%2Fdrive%20https%3A%2F%2Fwww.googleapis.com%2Fauth%2Fdrive.photos.readonly%20https%3A%2F%2Fwww.googleapis.com%2Fauth%2Fpeopleapi.readonly&response_type=code\n",
      "\n",
      "Enter your authorization code:\n",
      "··········\n",
      "Mounted at /content/gdrive\n"
     ]
    }
   ],
   "source": [
    "from google.colab import drive\n",
    "\n",
    "drive.mount('/content/gdrive')"
   ]
  }
 ],
 "metadata": {
  "anaconda-cloud": {},
  "colab": {
   "collapsed_sections": [],
   "name": "task2b.ipynb",
   "provenance": [],
   "toc_visible": true
  },
  "kernelspec": {
   "display_name": "Python 3",
   "language": "python",
   "name": "python3"
  },
  "language_info": {
   "codemirror_mode": {
    "name": "ipython",
    "version": 3
   },
   "file_extension": ".py",
   "mimetype": "text/x-python",
   "name": "python",
   "nbconvert_exporter": "python",
   "pygments_lexer": "ipython3",
   "version": "3.6.8"
  }
 },
 "nbformat": 4,
 "nbformat_minor": 1
}
